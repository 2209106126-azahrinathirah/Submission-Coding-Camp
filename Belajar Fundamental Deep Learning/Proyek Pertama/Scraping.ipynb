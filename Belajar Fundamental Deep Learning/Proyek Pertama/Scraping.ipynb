{
  "nbformat": 4,
  "nbformat_minor": 0,
  "metadata": {
    "colab": {
      "provenance": []
    },
    "kernelspec": {
      "name": "python3",
      "display_name": "Python 3"
    },
    "language_info": {
      "name": "python"
    }
  },
  "cells": [
    {
      "cell_type": "markdown",
      "metadata": {
        "id": "H9wADwK78DCz"
      },
      "source": [
        "# Proyek Analisis Sentimen: Aplikasi Livin Mandiri\n",
        "- **Nama:** Andi Zahrina Athirah Ahmad\n",
        "- **Email:** azahrinathiraha051@gmail.com\n",
        "- **ID Dicoding:** azahrnath15"
      ]
    },
    {
      "cell_type": "markdown",
      "source": [
        "## Install Library"
      ],
      "metadata": {
        "id": "5WsjU2d3hMjF"
      }
    },
    {
      "cell_type": "code",
      "source": [
        "# Library Scrapping\n",
        "!pip install google-play-scraper pandas"
      ],
      "metadata": {
        "colab": {
          "base_uri": "https://localhost:8080/"
        },
        "id": "-H-hDX1xgza2",
        "outputId": "19e454df-e44d-45c5-dca2-9269a0919c66"
      },
      "execution_count": 4,
      "outputs": [
        {
          "output_type": "stream",
          "name": "stdout",
          "text": [
            "Collecting google-play-scraper\n",
            "  Downloading google_play_scraper-1.2.7-py3-none-any.whl.metadata (50 kB)\n",
            "\u001b[?25l     \u001b[90m━━━━━━━━━━━━━━━━━━━━━━━━━━━━━━━━━━━━━━━━\u001b[0m \u001b[32m0.0/50.2 kB\u001b[0m \u001b[31m?\u001b[0m eta \u001b[36m-:--:--\u001b[0m\r\u001b[2K     \u001b[90m━━━━━━━━━━━━━━━━━━━━━━━━━━━━━━━━━━━━━━━━\u001b[0m \u001b[32m50.2/50.2 kB\u001b[0m \u001b[31m2.0 MB/s\u001b[0m eta \u001b[36m0:00:00\u001b[0m\n",
            "\u001b[?25hRequirement already satisfied: pandas in /usr/local/lib/python3.11/dist-packages (2.2.2)\n",
            "Requirement already satisfied: numpy>=1.23.2 in /usr/local/lib/python3.11/dist-packages (from pandas) (1.26.4)\n",
            "Requirement already satisfied: python-dateutil>=2.8.2 in /usr/local/lib/python3.11/dist-packages (from pandas) (2.9.0.post0)\n",
            "Requirement already satisfied: pytz>=2020.1 in /usr/local/lib/python3.11/dist-packages (from pandas) (2025.2)\n",
            "Requirement already satisfied: tzdata>=2022.7 in /usr/local/lib/python3.11/dist-packages (from pandas) (2025.2)\n",
            "Requirement already satisfied: six>=1.5 in /usr/local/lib/python3.11/dist-packages (from python-dateutil>=2.8.2->pandas) (1.17.0)\n",
            "Downloading google_play_scraper-1.2.7-py3-none-any.whl (28 kB)\n",
            "Installing collected packages: google-play-scraper\n",
            "Successfully installed google-play-scraper-1.2.7\n"
          ]
        }
      ]
    },
    {
      "cell_type": "markdown",
      "source": [
        "## Import Library"
      ],
      "metadata": {
        "id": "8OzX_rEeM9AI"
      }
    },
    {
      "cell_type": "code",
      "source": [
        "from google_play_scraper import Sort, reviews\n",
        "import pandas as pd"
      ],
      "metadata": {
        "id": "N01qqvJ_dN6i"
      },
      "execution_count": 8,
      "outputs": []
    },
    {
      "cell_type": "code",
      "execution_count": 6,
      "metadata": {
        "id": "Svvx-AZTgsVq"
      },
      "outputs": [],
      "source": [
        "# 1. Pengumpulan Data (Scraping dengan Google Play Scraper)\n",
        "app_id = 'id.bmri.livin'\n",
        "\n",
        "# Scraping reviews for BYOND by BSI app\n",
        "result, _ = reviews(\n",
        "    app_id,                   # App ID for BYOND by BSI\n",
        "    lang='id',                # Language: Indonesian\n",
        "    country='id',             # Country: Indonesia\n",
        "    sort=Sort.NEWEST,         # Sort by newest reviews\n",
        "    count=10000               # Minimum 10000 reviews\n",
        ")"
      ]
    },
    {
      "cell_type": "code",
      "source": [
        "# Convert ke DataFrame\n",
        "df = pd.DataFrame(result)\n",
        "\n",
        "# Simpan hasil scraping ke CSV\n",
        "df.to_csv('livin_mandiri_reviews.csv', index=False)\n",
        "print(\"Dataset berhasil disimpan sebagai 'livin_mandiri_reviews.csv'\")"
      ],
      "metadata": {
        "colab": {
          "base_uri": "https://localhost:8080/"
        },
        "id": "2DGZjOqFOzHb",
        "outputId": "e57d1cfd-789e-41c1-e0d0-428c7c3ed29d"
      },
      "execution_count": 7,
      "outputs": [
        {
          "output_type": "stream",
          "name": "stdout",
          "text": [
            "Dataset berhasil disimpan sebagai 'livin_mandiri_reviews.csv'\n"
          ]
        }
      ]
    }
  ]
}